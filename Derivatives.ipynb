{
  "nbformat": 4,
  "nbformat_minor": 0,
  "metadata": {
    "colab": {
      "provenance": [],
      "collapsed_sections": [],
      "authorship_tag": "ABX9TyP17gpGLU2Ykb2fVU6sdmPZ",
      "include_colab_link": true
    },
    "kernelspec": {
      "name": "python3",
      "display_name": "Python 3"
    },
    "language_info": {
      "name": "python"
    }
  },
  "cells": [
    {
      "cell_type": "markdown",
      "metadata": {
        "id": "view-in-github",
        "colab_type": "text"
      },
      "source": [
        "<a href=\"https://colab.research.google.com/github/Lotfullah21/AI_DL_TensorFlow/blob/main/Derivatives.ipynb\" target=\"_parent\"><img src=\"https://colab.research.google.com/assets/colab-badge.svg\" alt=\"Open In Colab\"/></a>"
      ]
    },
    {
      "cell_type": "markdown",
      "source": [
        "# Introduction \n",
        "\n",
        "***derivatives*** play a pivltal role in training neural network, it gives the information at what point,how our neural networks perform,is it contributing to loss more or less, or it is neutral, we might derivative not just with respect one variable,or parameter, but with multiple variable or parameters, this is where ***partial differentiation*** comes into picture, we are taking the derivative with respect to multiple variable;\n",
        "\n"
      ],
      "metadata": {
        "id": "KpL6m1RCzgJF"
      }
    },
    {
      "cell_type": "code",
      "source": [
        "import torch"
      ],
      "metadata": {
        "id": "ea2xrrY41T34"
      },
      "execution_count": 2,
      "outputs": []
    },
    {
      "cell_type": "code",
      "source": [
        "# first we will create a tensor,which at that point(tensor x), we will calculate the partial derivative\n",
        "x = torch.tensor(1.0,requires_grad = True)\n",
        "y = 2*(x)**3-5\n",
        "dx = y.backward()\n",
        "d_1 = x.grad\n",
        "print(\"the function y = \",y)\n",
        "print(\"x value \",x.data)\n",
        "print(\"x is leaf\\t\",x.is_leaf)\n",
        "print(\"x requires grad\\t\",x.requires_grad)\n",
        "# print(\"derivative with respect to x\\n\",dx)|\n",
        "print(\"gradient at x = 1 is = \",d_1)"
      ],
      "metadata": {
        "colab": {
          "base_uri": "https://localhost:8080/"
        },
        "id": "THLU8B6v0wkk",
        "outputId": "d4f8534f-3c0c-4b01-e71b-59c7e88b35d8"
      },
      "execution_count": 45,
      "outputs": [
        {
          "output_type": "stream",
          "name": "stdout",
          "text": [
            "the function y =  tensor(-3., grad_fn=<SubBackward0>)\n",
            "x value  tensor(1.)\n",
            "x is leaf\t True\n",
            "x requires grad\t True\n",
            "gradient at x = 1 is =  tensor(6.)\n"
          ]
        }
      ]
    },
    {
      "cell_type": "code",
      "source": [
        "print(\"y at x = 1\\t\",y.data)\n",
        "print('grad_fn:',y.grad_fn)\n",
        "print(\"y is leaf\\t\",y.is_leaf)\n",
        "print(\"y requires grad\",y.requires_grad)"
      ],
      "metadata": {
        "colab": {
          "base_uri": "https://localhost:8080/"
        },
        "id": "SLYmmFo132Lk",
        "outputId": "15054ea4-2e4e-4a20-a1bf-66de49c71d6f"
      },
      "execution_count": 37,
      "outputs": [
        {
          "output_type": "stream",
          "name": "stdout",
          "text": [
            "y at x = 1\t tensor(3.)\n",
            "grad_fn: <SubBackward0 object at 0x7f825ec4d350>\n",
            "y is leaf\t False\n",
            "y requires grad True\n"
          ]
        }
      ]
    },
    {
      "cell_type": "code",
      "source": [
        "# Practice: Calculate the derivative of y = 2x^3 + x at x = 1\n",
        "x = torch.tensor(2.0,requires_grad = True)\n",
        "y = 2*(x)**3 + x\n",
        "y.backward()\n",
        "x.grad\n"
      ],
      "metadata": {
        "colab": {
          "base_uri": "https://localhost:8080/"
        },
        "id": "nLzJjLjS50Da",
        "outputId": "1f8fa2b9-ba25-44b9-beda-593ac2855a1f"
      },
      "execution_count": 46,
      "outputs": [
        {
          "output_type": "execute_result",
          "data": {
            "text/plain": [
              "tensor(25.)"
            ]
          },
          "metadata": {},
          "execution_count": 46
        }
      ]
    },
    {
      "cell_type": "markdown",
      "source": [
        "### Partial Derivative\n"
      ],
      "metadata": {
        "id": "wTkJ1JLHzgOF"
      }
    },
    {
      "cell_type": "code",
      "source": [
        "x = torch.tensor(-1.0,requires_grad = True)\n",
        "z = torch.tensor(2.0,requires_grad = True)\n",
        "y = x**2 + z\n",
        "y.backward()\n",
        "d_x = x.grad\n",
        "d_z = z.grad\n",
        "print(\"gradient with respect to x = -1\\t\", d_x)\n",
        "print(\"gradient with respect to z = 2\\t\", d_z)\n",
        "print(y)\n"
      ],
      "metadata": {
        "colab": {
          "base_uri": "https://localhost:8080/"
        },
        "id": "9pw1O6Tq_cW1",
        "outputId": "cc5c7ffa-9e8a-4f4d-cb86-40e4d5c1fa65"
      },
      "execution_count": 50,
      "outputs": [
        {
          "output_type": "stream",
          "name": "stdout",
          "text": [
            "gradient with respect to x = -1\t tensor(-2.)\n",
            "gradient with respect to z = 2\t tensor(1.)\n",
            "tensor(3., grad_fn=<AddBackward0>)\n",
            "True\n"
          ]
        }
      ]
    },
    {
      "cell_type": "code",
      "source": [
        "print(x.is_leaf)\n",
        "print(z.is_leaf)\n",
        "print(y.is_leaf)"
      ],
      "metadata": {
        "colab": {
          "base_uri": "https://localhost:8080/"
        },
        "id": "UePWd7mwAaRJ",
        "outputId": "d822e1fe-8906-462c-a58f-c053dea43dea"
      },
      "execution_count": 52,
      "outputs": [
        {
          "output_type": "stream",
          "name": "stdout",
          "text": [
            "True\n",
            "True\n",
            "False\n"
          ]
        }
      ]
    },
    {
      "cell_type": "code",
      "source": [
        "print(y.requires_grad, x.requires_grad, z.requires_grad)"
      ],
      "metadata": {
        "colab": {
          "base_uri": "https://localhost:8080/"
        },
        "id": "EbNj9FNJAhSi",
        "outputId": "8eb13246-b9ff-474e-b24c-0068d1376e99"
      },
      "execution_count": 53,
      "outputs": [
        {
          "output_type": "stream",
          "name": "stdout",
          "text": [
            "True True True\n"
          ]
        }
      ]
    },
    {
      "cell_type": "markdown",
      "source": [
        "### Relu\n",
        "the derivatie of relu is 1 for inputs > 0 and it is equall to 0 for inputs less than 0 and equall to zero at input = 0 "
      ],
      "metadata": {
        "id": "HUAlOKOXHFJZ"
      }
    },
    {
      "cell_type": "code",
      "source": [
        "x = torch.tensor(0.0, requires_grad = True)\n",
        "z = torch.tensor(-11.0, requires_grad = True)\n",
        "y = torch.relu(x)\n",
        "y.backward()\n",
        "w = torch.relu(z)\n",
        "w.backward()\n",
        "print(\"X grad\",x.grad)\n",
        "print(\"Z grad\",z.grad)"
      ],
      "metadata": {
        "colab": {
          "base_uri": "https://localhost:8080/"
        },
        "id": "2hw6_CvjGx_9",
        "outputId": "79441670-23a3-4cd9-8bd0-f8c4198d7d8e"
      },
      "execution_count": 115,
      "outputs": [
        {
          "output_type": "stream",
          "name": "stdout",
          "text": [
            "X grad tensor(0.)\n",
            "Z grad tensor(0.)\n"
          ]
        }
      ]
    },
    {
      "cell_type": "code",
      "source": [
        "x = torch.linspace(-4,4,100,requires_grad = True)\n",
        "Y = x**3\n",
        "y = torch.sum(Y)"
      ],
      "metadata": {
        "id": "BvpA-JkjBxe5"
      },
      "execution_count": 83,
      "outputs": []
    },
    {
      "cell_type": "code",
      "source": [
        "import matplotlib.pyplot as plt\n",
        "y.backward()\n",
        "plt.plot(x.detach().numpy(),Y.detach().numpy(),label = \"Function\")\n",
        "plt.plot(x.detach().numpy(), x.grad.detach().numpy(), label = 'derivative')\n",
        "plt.legend()\n",
        "plt.show()\n"
      ],
      "metadata": {
        "colab": {
          "base_uri": "https://localhost:8080/",
          "height": 265
        },
        "id": "bJoZKWEXCBVz",
        "outputId": "39cb555b-f2f0-447e-9c6d-c491f2bfe47f"
      },
      "execution_count": 84,
      "outputs": [
        {
          "output_type": "display_data",
          "data": {
            "text/plain": [
              "<Figure size 432x288 with 1 Axes>"
            ],
            "image/png": "[encoded data removed]"
          },
          "metadata": {
            "needs_background": "light"
          }
        }
      ]
    },
    {
      "cell_type": "code",
      "source": [
        "\n",
        "\n",
        "x = torch.linspace(-4,4,8,requires_grad = True)\n",
        "Y = x**2\n",
        "y = torch.sum(Y)\n",
        "y.backward()\n",
        "plt.plot(x.detach().numpy(),Y.detach().numpy(),label = \"Function\")\n",
        "plt.plot(x.detach().numpy(), x.grad.detach().numpy(), label = 'derivative')\n",
        "plt.legend()\n",
        "plt.show()\n"
      ],
      "metadata": {
        "colab": {
          "base_uri": "https://localhost:8080/",
          "height": 265
        },
        "id": "oA9TC1K-GUeo",
        "outputId": "d08466ba-84d6-409d-b1f4-d721b78f5fca"
      },
      "execution_count": 103,
      "outputs": [
        {
          "output_type": "display_data",
          "data": {
            "text/plain": [
              "<Figure size 432x288 with 1 Axes>"
            ],
            "image/png": "[encoded data removed]"
          },
          "metadata": {
            "needs_background": "light"
          }
        }
      ]
    },
    {
      "cell_type": "markdown",
      "source": [
        "The  method <code> detach()</code>  excludes further tracking of operations in the graph, and therefore the subgraph will not record operations. This allows us to then convert the tensor to a numpy array. To understand the sum operation  <a href=\"https://pytorch.org/tutorials/beginner/blitz/autograd_tutorial.html?utm_medium=Exinfluencer&utm_source=Exinfluencer&utm_content=000026UJ&utm_term=10006555&utm_id=NA-SkillsNetwork-Channel-SkillsNetworkCoursesIBMDeveloperSkillsNetworkDL0110ENSkillsNetwork20647811-2022-01-01\">Click Here</a>"
      ],
      "metadata": {
        "id": "1zEZzQDoBwpc"
      }
    },
    {
      "cell_type": "markdown",
      "source": [],
      "metadata": {
        "id": "E4VOMPyFzgQi"
      }
    },
    {
      "cell_type": "code",
      "source": [
        "# Take the derivative of Relu with respect to multiple value.\n",
        "\n",
        "x = torch.linspace(-5, 10, 10000, requires_grad = True)\n",
        "Y = torch.relu(x)\n",
        "y = Y.sum()\n",
        "y.backward()\n",
        "plt.plot(x.detach().numpy(), Y.detach().numpy(), label = 'function')\n",
        "plt.plot(x.detach().numpy(), x.grad.detach().numpy(), label = 'derivative')\n",
        "plt.xlabel('x')\n",
        "plt.legend()\n",
        "plt.show()"
      ],
      "metadata": {
        "colab": {
          "base_uri": "https://localhost:8080/",
          "height": 279
        },
        "id": "nfUrrc4HFV1K",
        "outputId": "fde7b8c6-d092-4094-a94f-ae239a2b0b22"
      },
      "execution_count": 100,
      "outputs": [
        {
          "output_type": "display_data",
          "data": {
            "text/plain": [
              "<Figure size 432x288 with 1 Axes>"
            ],
            "image/png": "[encoded data removed]"
          },
          "metadata": {
            "needs_background": "light"
          }
        }
      ]
    },
    {
      "cell_type": "code",
      "source": [],
      "metadata": {
        "id": "8JAdUAFTFXoI"
      },
      "execution_count": 86,
      "outputs": []
    },
    {
      "cell_type": "markdown",
      "source": [],
      "metadata": {
        "id": "nHOJNcywzgS4"
      }
    }
  ]
}